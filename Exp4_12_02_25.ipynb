{
  "nbformat": 4,
  "nbformat_minor": 0,
  "metadata": {
    "colab": {
      "provenance": [],
      "authorship_tag": "ABX9TyPW3247/xpiwRzC6lyOa4CD",
      "include_colab_link": true
    },
    "kernelspec": {
      "name": "python3",
      "display_name": "Python 3"
    },
    "language_info": {
      "name": "python"
    }
  },
  "cells": [
    {
      "cell_type": "markdown",
      "metadata": {
        "id": "view-in-github",
        "colab_type": "text"
      },
      "source": [
        "<a href=\"https://colab.research.google.com/github/Pranavakumar08/SBL-PP/blob/main/Exp4_12_02_25.ipynb\" target=\"_parent\"><img src=\"https://colab.research.google.com/assets/colab-badge.svg\" alt=\"Open In Colab\"/></a>"
      ]
    },
    {
      "cell_type": "code",
      "execution_count": 11,
      "metadata": {
        "colab": {
          "base_uri": "https://localhost:8080/"
        },
        "id": "fWdU3Cv5Zh8u",
        "outputId": "f15885e1-ff28-4e07-c64e-fa7fcf1f7ba6"
      },
      "outputs": [
        {
          "output_type": "stream",
          "name": "stdout",
          "text": [
            "\n",
            "Writing complete!\n",
            "Namaste, I am Pranavakumar.\n",
            "\n",
            "Appending complete!\n",
            "Namaste, I am Pranavakumar. I am a student.\n"
          ]
        }
      ],
      "source": [
        " # Remove the pass and call the function to perform write.\n",
        "    # Read the file that was created while writing.\n",
        "    # Make the changes in the file by appending some material.\n",
        "    # Again read the same file.\n",
        "\n",
        "'''\n",
        "Print all the output of the function.\n",
        "For better representation, please use jupyter.\n",
        "Will also aid in easy maintanence of files for submissions.\n",
        "'''\n",
        "\n",
        "from contextlib import contextmanager\n",
        "\n",
        "@contextmanager\n",
        "def genericFileFunction (filename, method):\n",
        "    file = open (filename, method)\n",
        "    yield file\n",
        "    file.close ()\n",
        "\n",
        "if __name__ == '__main__':\n",
        "    try:\n",
        "        with genericFileFunction(\"trial.txt\",\"w\") as f:\n",
        "            f.write(\"Namaste, I am Pranavakumar.\")\n",
        "            print(\"\\nWriting complete!\")\n",
        "\n",
        "        with genericFileFunction(\"trial.txt\",\"r\") as f:\n",
        "            print(f.read())\n",
        "\n",
        "        with genericFileFunction(\"trial.txt\",\"a\") as f:\n",
        "            f.write(\" I am a student.\")\n",
        "            print(\"\\nAppending complete!\")\n",
        "\n",
        "        with genericFileFunction(\"trial.txt\",\"r\") as f:\n",
        "            print(f.read())\n",
        "\n",
        "    except Exception as e:\n",
        "        print(e)\n"
      ]
    },
    {
      "cell_type": "code",
      "source": [],
      "metadata": {
        "id": "W927JwT0dQgQ"
      },
      "execution_count": null,
      "outputs": []
    }
  ]
}