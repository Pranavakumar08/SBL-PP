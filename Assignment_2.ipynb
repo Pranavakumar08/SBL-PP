{
  "nbformat": 4,
  "nbformat_minor": 0,
  "metadata": {
    "colab": {
      "provenance": [],
      "authorship_tag": "ABX9TyPLBgZxbty4lHGGj2RlJNYq",
      "include_colab_link": true
    },
    "kernelspec": {
      "name": "python3",
      "display_name": "Python 3"
    },
    "language_info": {
      "name": "python"
    }
  },
  "cells": [
    {
      "cell_type": "markdown",
      "metadata": {
        "id": "view-in-github",
        "colab_type": "text"
      },
      "source": [
        "<a href=\"https://colab.research.google.com/github/Pranavakumar08/SBL-PP/blob/main/Assignment_2.ipynb\" target=\"_parent\"><img src=\"https://colab.research.google.com/assets/colab-badge.svg\" alt=\"Open In Colab\"/></a>"
      ]
    },
    {
      "cell_type": "markdown",
      "source": [
        "You are given a large log file containing various system events. Each line in the log file follows\n",
        "this format:\n",
        "[YYYY-MM-DD HH:MM:SS] [LOG_LEVEL] [MODULE] Message\n",
        "where:\n",
        "• YYYY-MM-DD HH:MM:SS is a timestamp.\n",
        "• LOG_LEVEL can be INFO, WARN, ERROR, or DEBUG.\n",
        "• MODULE represents the system module name (alphanumeric, can contain underscores).\n",
        "• Message is the actual log message (it may contain any characters).\n",
        "Your Task\n",
        "Write a function extract_critical_errors(log_data: str) -> list[tuple] that takes a\n",
        "multiline string log_data (containing log entries) and returns a list of tuples containing:\n",
        "1. The timestamp\n",
        "2. The module name\n",
        "3. The error message\n",
        "BUT only if:\n",
        "• The LOG_LEVEL is ERROR.\n",
        "• The message contains at least one IP address in IPv4 format (xxx.xxx.xxx.xxx, where\n",
        "xxx is in the range 0-255).\n",
        "• The message contains a hexadecimal error code, formatted as 0x followed by exactly 8\n",
        "hexadecimal digits (0-9, A-F)."
      ],
      "metadata": {
        "id": "i8XgMXIcGJPi"
      }
    },
    {
      "cell_type": "code",
      "source": [
        "import re\n",
        "\n",
        "log_data = \"\"\"\n",
        "[2025-02-10 14:23:01] [INFO] [Auth_Module] User login successful.\n",
        "[2025-02-10 15:45:32] [ERROR] [Net_Module] Connection timeout from 192.168.1.10. Error Code: 0xAB12CD34\n",
        "[2025-02-10 16:01:10] [WARN] [Disk_Module] Low disk space warning.\n",
        "[2025-02-10 17:12:05] [ERROR] [Security_Module] Unauthorized access detected from 10.0.0.5. Error Code: 0xDEADBEEF\n",
        "\"\"\"\n",
        "\n",
        "# Used regex101 tool for identifying the pattern\n",
        "pattern = r\"\\[(\\d{4}-\\d\\d-\\d\\d \\d\\d:\\d\\d:\\d\\d)\\] \\[ERROR\\] \\[(.+)\\] (\\D+[\\d{1,}.]+ \\D+0x[0-9a-fA-F]{8})\"\n",
        "\n",
        "def extract_critical_errors(log_data: str) -> list[tuple]:\n",
        "    matches = re.findall(pattern, log_data)\n",
        "    return matches\n",
        "\n",
        "result = extract_critical_errors(log_data)\n",
        "print(result)"
      ],
      "metadata": {
        "colab": {
          "base_uri": "https://localhost:8080/"
        },
        "id": "2uDUNTPRGKTE",
        "outputId": "d07889a5-ece6-4415-d6df-72b68ee2ff2f"
      },
      "execution_count": 16,
      "outputs": [
        {
          "output_type": "stream",
          "name": "stdout",
          "text": [
            "[('2025-02-10 15:45:32', 'Net_Module', 'Connection timeout from 192.168.1.10. Error Code: 0xAB12CD34'), ('2025-02-10 17:12:05', 'Security_Module', 'Unauthorized access detected from 10.0.0.5. Error Code: 0xDEADBEEF')]\n"
          ]
        }
      ]
    },
    {
      "cell_type": "code",
      "source": [],
      "metadata": {
        "id": "8K_D87TzZcW2"
      },
      "execution_count": null,
      "outputs": []
    }
  ]
}